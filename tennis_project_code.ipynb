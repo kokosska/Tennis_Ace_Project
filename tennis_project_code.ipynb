{
 "cells": [
  {
   "cell_type": "markdown",
   "metadata": {},
   "source": [
    "## Tennis Ace"
   ]
  },
  {
   "cell_type": "markdown",
   "metadata": {},
   "source": [
    "This is a project launched at Codecademy and it is a part of Data Scientist Career Path. More information [here](https://www.codecademy.com/learn/paths/data-science)"
   ]
  },
  {
   "cell_type": "markdown",
   "metadata": {},
   "source": [
    "## About Project"
   ]
  },
  {
   "cell_type": "markdown",
   "metadata": {},
   "source": [
    "I will create a linear regression model that predicts the outcome for a tennis player based on their playing habits. By analyzing and modeling the Association of Tennis Professionals (ATP) data, I will determine what it takes to be one of the best tennis players in the world."
   ]
  },
  {
   "cell_type": "markdown",
   "metadata": {},
   "source": [
    "#### Task 1"
   ]
  },
  {
   "cell_type": "markdown",
   "metadata": {},
   "source": [
    "Import Python libraries and load data into DataFrame `df`"
   ]
  },
  {
   "cell_type": "code",
   "execution_count": 1,
   "metadata": {},
   "outputs": [],
   "source": [
    "import pandas as pd\n",
    "import matplotlib.pyplot as plt\n",
    "from sklearn.model_selection import train_test_split\n",
    "from sklearn.linear_model import LinearRegression"
   ]
  },
  {
   "cell_type": "code",
   "execution_count": 2,
   "metadata": {},
   "outputs": [
    {
     "data": {
      "text/html": [
       "<div>\n",
       "<style scoped>\n",
       "    .dataframe tbody tr th:only-of-type {\n",
       "        vertical-align: middle;\n",
       "    }\n",
       "\n",
       "    .dataframe tbody tr th {\n",
       "        vertical-align: top;\n",
       "    }\n",
       "\n",
       "    .dataframe thead th {\n",
       "        text-align: right;\n",
       "    }\n",
       "</style>\n",
       "<table border=\"1\" class=\"dataframe\">\n",
       "  <thead>\n",
       "    <tr style=\"text-align: right;\">\n",
       "      <th></th>\n",
       "      <th>Player</th>\n",
       "      <th>Year</th>\n",
       "      <th>FirstServe</th>\n",
       "      <th>FirstServePointsWon</th>\n",
       "      <th>FirstServeReturnPointsWon</th>\n",
       "      <th>SecondServePointsWon</th>\n",
       "      <th>SecondServeReturnPointsWon</th>\n",
       "      <th>Aces</th>\n",
       "      <th>BreakPointsConverted</th>\n",
       "      <th>BreakPointsFaced</th>\n",
       "      <th>...</th>\n",
       "      <th>ReturnGamesWon</th>\n",
       "      <th>ReturnPointsWon</th>\n",
       "      <th>ServiceGamesPlayed</th>\n",
       "      <th>ServiceGamesWon</th>\n",
       "      <th>TotalPointsWon</th>\n",
       "      <th>TotalServicePointsWon</th>\n",
       "      <th>Wins</th>\n",
       "      <th>Losses</th>\n",
       "      <th>Winnings</th>\n",
       "      <th>Ranking</th>\n",
       "    </tr>\n",
       "  </thead>\n",
       "  <tbody>\n",
       "    <tr>\n",
       "      <th>0</th>\n",
       "      <td>Pedro Sousa</td>\n",
       "      <td>2016</td>\n",
       "      <td>0.88</td>\n",
       "      <td>0.50</td>\n",
       "      <td>0.38</td>\n",
       "      <td>0.50</td>\n",
       "      <td>0.39</td>\n",
       "      <td>0</td>\n",
       "      <td>0.14</td>\n",
       "      <td>7</td>\n",
       "      <td>...</td>\n",
       "      <td>0.11</td>\n",
       "      <td>0.38</td>\n",
       "      <td>8</td>\n",
       "      <td>0.50</td>\n",
       "      <td>0.43</td>\n",
       "      <td>0.50</td>\n",
       "      <td>1</td>\n",
       "      <td>2</td>\n",
       "      <td>39820</td>\n",
       "      <td>119</td>\n",
       "    </tr>\n",
       "    <tr>\n",
       "      <th>1</th>\n",
       "      <td>Roman Safiullin</td>\n",
       "      <td>2017</td>\n",
       "      <td>0.84</td>\n",
       "      <td>0.62</td>\n",
       "      <td>0.26</td>\n",
       "      <td>0.33</td>\n",
       "      <td>0.07</td>\n",
       "      <td>7</td>\n",
       "      <td>0.00</td>\n",
       "      <td>7</td>\n",
       "      <td>...</td>\n",
       "      <td>0.00</td>\n",
       "      <td>0.20</td>\n",
       "      <td>9</td>\n",
       "      <td>0.67</td>\n",
       "      <td>0.41</td>\n",
       "      <td>0.57</td>\n",
       "      <td>0</td>\n",
       "      <td>1</td>\n",
       "      <td>17334</td>\n",
       "      <td>381</td>\n",
       "    </tr>\n",
       "    <tr>\n",
       "      <th>2</th>\n",
       "      <td>Pedro Sousa</td>\n",
       "      <td>2017</td>\n",
       "      <td>0.83</td>\n",
       "      <td>0.60</td>\n",
       "      <td>0.28</td>\n",
       "      <td>0.53</td>\n",
       "      <td>0.44</td>\n",
       "      <td>2</td>\n",
       "      <td>0.38</td>\n",
       "      <td>10</td>\n",
       "      <td>...</td>\n",
       "      <td>0.16</td>\n",
       "      <td>0.34</td>\n",
       "      <td>17</td>\n",
       "      <td>0.65</td>\n",
       "      <td>0.45</td>\n",
       "      <td>0.59</td>\n",
       "      <td>4</td>\n",
       "      <td>1</td>\n",
       "      <td>109827</td>\n",
       "      <td>119</td>\n",
       "    </tr>\n",
       "    <tr>\n",
       "      <th>3</th>\n",
       "      <td>Rogerio Dutra Silva</td>\n",
       "      <td>2010</td>\n",
       "      <td>0.83</td>\n",
       "      <td>0.64</td>\n",
       "      <td>0.34</td>\n",
       "      <td>0.59</td>\n",
       "      <td>0.33</td>\n",
       "      <td>2</td>\n",
       "      <td>0.33</td>\n",
       "      <td>5</td>\n",
       "      <td>...</td>\n",
       "      <td>0.14</td>\n",
       "      <td>0.34</td>\n",
       "      <td>15</td>\n",
       "      <td>0.80</td>\n",
       "      <td>0.49</td>\n",
       "      <td>0.63</td>\n",
       "      <td>0</td>\n",
       "      <td>0</td>\n",
       "      <td>9761</td>\n",
       "      <td>125</td>\n",
       "    </tr>\n",
       "    <tr>\n",
       "      <th>4</th>\n",
       "      <td>Daniel Gimeno-Traver</td>\n",
       "      <td>2017</td>\n",
       "      <td>0.81</td>\n",
       "      <td>0.54</td>\n",
       "      <td>0.00</td>\n",
       "      <td>0.33</td>\n",
       "      <td>0.33</td>\n",
       "      <td>1</td>\n",
       "      <td>0.00</td>\n",
       "      <td>2</td>\n",
       "      <td>...</td>\n",
       "      <td>0.00</td>\n",
       "      <td>0.20</td>\n",
       "      <td>2</td>\n",
       "      <td>0.50</td>\n",
       "      <td>0.35</td>\n",
       "      <td>0.50</td>\n",
       "      <td>0</td>\n",
       "      <td>1</td>\n",
       "      <td>32879</td>\n",
       "      <td>272</td>\n",
       "    </tr>\n",
       "  </tbody>\n",
       "</table>\n",
       "<p>5 rows × 24 columns</p>\n",
       "</div>"
      ],
      "text/plain": [
       "                 Player  Year  FirstServe  FirstServePointsWon  \\\n",
       "0           Pedro Sousa  2016        0.88                 0.50   \n",
       "1       Roman Safiullin  2017        0.84                 0.62   \n",
       "2           Pedro Sousa  2017        0.83                 0.60   \n",
       "3   Rogerio Dutra Silva  2010        0.83                 0.64   \n",
       "4  Daniel Gimeno-Traver  2017        0.81                 0.54   \n",
       "\n",
       "   FirstServeReturnPointsWon  SecondServePointsWon  \\\n",
       "0                       0.38                  0.50   \n",
       "1                       0.26                  0.33   \n",
       "2                       0.28                  0.53   \n",
       "3                       0.34                  0.59   \n",
       "4                       0.00                  0.33   \n",
       "\n",
       "   SecondServeReturnPointsWon  Aces  BreakPointsConverted  BreakPointsFaced  \\\n",
       "0                        0.39     0                  0.14                 7   \n",
       "1                        0.07     7                  0.00                 7   \n",
       "2                        0.44     2                  0.38                10   \n",
       "3                        0.33     2                  0.33                 5   \n",
       "4                        0.33     1                  0.00                 2   \n",
       "\n",
       "   ...  ReturnGamesWon  ReturnPointsWon  ServiceGamesPlayed  ServiceGamesWon  \\\n",
       "0  ...            0.11             0.38                   8             0.50   \n",
       "1  ...            0.00             0.20                   9             0.67   \n",
       "2  ...            0.16             0.34                  17             0.65   \n",
       "3  ...            0.14             0.34                  15             0.80   \n",
       "4  ...            0.00             0.20                   2             0.50   \n",
       "\n",
       "   TotalPointsWon  TotalServicePointsWon  Wins  Losses  Winnings  Ranking  \n",
       "0            0.43                   0.50     1       2     39820      119  \n",
       "1            0.41                   0.57     0       1     17334      381  \n",
       "2            0.45                   0.59     4       1    109827      119  \n",
       "3            0.49                   0.63     0       0      9761      125  \n",
       "4            0.35                   0.50     0       1     32879      272  \n",
       "\n",
       "[5 rows x 24 columns]"
      ]
     },
     "execution_count": 2,
     "metadata": {},
     "output_type": "execute_result"
    }
   ],
   "source": [
    "df = pd.read_csv('tennis_stats.csv')\n",
    "df.head()"
   ]
  },
  {
   "cell_type": "markdown",
   "metadata": {},
   "source": [
    "#### Task 2 - summary statistics"
   ]
  },
  {
   "cell_type": "markdown",
   "metadata": {},
   "source": [
    "The ATP men’s tennis dataset includes a wide array of tennis statistics, which are described below:\n",
    "\n",
    "Identifying Data\n",
    "\n",
    "- Player: name of the tennis player\n",
    "- Year: year data was recorded\n",
    "\n",
    "Service Game Columns (Offensive)\n",
    "\n",
    "- Aces: number of serves by the player where the receiver does not touch the ball\n",
    "- DoubleFaults: number of times player missed both first and second serve attempts\n",
    "- FirstServe: % of first-serve attempts made\n",
    "- FirstServePointsWon: % of first-serve attempt points won by the player\n",
    "- SecondServePointsWon: % of second-serve attempt points won by the player\n",
    "- BreakPointsFaced: number of times where the receiver could have won service game of the player\n",
    "- BreakPointsSaved: % of the time the player was able to stop the receiver from winning service game when they had the chance\n",
    "- ServiceGamesPlayed: total number of games where the player served\n",
    "- ServiceGamesWon: total number of games where the player served and won\n",
    "- TotalServicePointsWon: % of points in games where the player served that they won\n",
    "\n",
    "Return Game Columns (Defensive)\n",
    "\n",
    "- FirstServeReturnPointsWon: % of opponents first-serve points the player was able to win\n",
    "- SecondServeReturnPointsWon: % of opponents second-serve points the player was able to win\n",
    "- BreakPointsOpportunities: number of times where the player could have won the service game of the opponent\n",
    "- BreakPointsConverted: % of the time the player was able to win their opponent’s service game when they had the chance\n",
    "- ReturnGamesPlayed: total number of games where the player’s opponent served\n",
    "- ReturnGamesWon: total number of games where the player’s opponent served and the player won\n",
    "- ReturnPointsWon: total number of points where the player’s opponent served and the player won\n",
    "- TotalPointsWon: % of points won by the player\n",
    "\n",
    "Outcomes\n",
    "\n",
    "- Wins: number of matches won in a year\n",
    "- Losses: number of matches lost in a year\n",
    "- Winnings: total winnings in USD($) in a year\n",
    "- Ranking: ranking at the end of year"
   ]
  },
  {
   "cell_type": "code",
   "execution_count": 3,
   "metadata": {},
   "outputs": [
    {
     "data": {
      "text/html": [
       "<div>\n",
       "<style scoped>\n",
       "    .dataframe tbody tr th:only-of-type {\n",
       "        vertical-align: middle;\n",
       "    }\n",
       "\n",
       "    .dataframe tbody tr th {\n",
       "        vertical-align: top;\n",
       "    }\n",
       "\n",
       "    .dataframe thead th {\n",
       "        text-align: right;\n",
       "    }\n",
       "</style>\n",
       "<table border=\"1\" class=\"dataframe\">\n",
       "  <thead>\n",
       "    <tr style=\"text-align: right;\">\n",
       "      <th></th>\n",
       "      <th>Year</th>\n",
       "      <th>FirstServe</th>\n",
       "      <th>FirstServePointsWon</th>\n",
       "      <th>FirstServeReturnPointsWon</th>\n",
       "      <th>SecondServePointsWon</th>\n",
       "      <th>SecondServeReturnPointsWon</th>\n",
       "      <th>Aces</th>\n",
       "      <th>BreakPointsConverted</th>\n",
       "      <th>BreakPointsFaced</th>\n",
       "      <th>BreakPointsOpportunities</th>\n",
       "      <th>...</th>\n",
       "      <th>ReturnGamesWon</th>\n",
       "      <th>ReturnPointsWon</th>\n",
       "      <th>ServiceGamesPlayed</th>\n",
       "      <th>ServiceGamesWon</th>\n",
       "      <th>TotalPointsWon</th>\n",
       "      <th>TotalServicePointsWon</th>\n",
       "      <th>Wins</th>\n",
       "      <th>Losses</th>\n",
       "      <th>Winnings</th>\n",
       "      <th>Ranking</th>\n",
       "    </tr>\n",
       "  </thead>\n",
       "  <tbody>\n",
       "    <tr>\n",
       "      <th>Year</th>\n",
       "      <td>1.000000</td>\n",
       "      <td>0.051406</td>\n",
       "      <td>-0.016728</td>\n",
       "      <td>-0.106784</td>\n",
       "      <td>0.005300</td>\n",
       "      <td>-0.039087</td>\n",
       "      <td>-0.108367</td>\n",
       "      <td>-0.072404</td>\n",
       "      <td>-0.101735</td>\n",
       "      <td>-0.114806</td>\n",
       "      <td>...</td>\n",
       "      <td>-0.073256</td>\n",
       "      <td>-0.078229</td>\n",
       "      <td>-0.108477</td>\n",
       "      <td>-0.008930</td>\n",
       "      <td>-0.041790</td>\n",
       "      <td>-0.005544</td>\n",
       "      <td>-0.108235</td>\n",
       "      <td>-0.077181</td>\n",
       "      <td>0.043908</td>\n",
       "      <td>-0.040483</td>\n",
       "    </tr>\n",
       "    <tr>\n",
       "      <th>FirstServe</th>\n",
       "      <td>0.051406</td>\n",
       "      <td>1.000000</td>\n",
       "      <td>-0.070659</td>\n",
       "      <td>0.025488</td>\n",
       "      <td>0.101417</td>\n",
       "      <td>-0.001924</td>\n",
       "      <td>0.048149</td>\n",
       "      <td>-0.018877</td>\n",
       "      <td>0.057709</td>\n",
       "      <td>0.062345</td>\n",
       "      <td>...</td>\n",
       "      <td>-0.010676</td>\n",
       "      <td>0.004189</td>\n",
       "      <td>0.071920</td>\n",
       "      <td>0.137473</td>\n",
       "      <td>0.148349</td>\n",
       "      <td>0.180996</td>\n",
       "      <td>0.064832</td>\n",
       "      <td>0.053736</td>\n",
       "      <td>0.057882</td>\n",
       "      <td>-0.068759</td>\n",
       "    </tr>\n",
       "    <tr>\n",
       "      <th>FirstServePointsWon</th>\n",
       "      <td>-0.016728</td>\n",
       "      <td>-0.070659</td>\n",
       "      <td>1.000000</td>\n",
       "      <td>0.021729</td>\n",
       "      <td>0.320765</td>\n",
       "      <td>-0.004724</td>\n",
       "      <td>0.460323</td>\n",
       "      <td>-0.041538</td>\n",
       "      <td>0.301925</td>\n",
       "      <td>0.324853</td>\n",
       "      <td>...</td>\n",
       "      <td>-0.010193</td>\n",
       "      <td>-0.002793</td>\n",
       "      <td>0.376460</td>\n",
       "      <td>0.817829</td>\n",
       "      <td>0.648753</td>\n",
       "      <td>0.860033</td>\n",
       "      <td>0.356702</td>\n",
       "      <td>0.330581</td>\n",
       "      <td>0.361121</td>\n",
       "      <td>-0.150004</td>\n",
       "    </tr>\n",
       "    <tr>\n",
       "      <th>FirstServeReturnPointsWon</th>\n",
       "      <td>-0.106784</td>\n",
       "      <td>0.025488</td>\n",
       "      <td>0.021729</td>\n",
       "      <td>1.000000</td>\n",
       "      <td>0.072707</td>\n",
       "      <td>0.301265</td>\n",
       "      <td>0.140165</td>\n",
       "      <td>0.324057</td>\n",
       "      <td>0.295724</td>\n",
       "      <td>0.313338</td>\n",
       "      <td>...</td>\n",
       "      <td>0.757435</td>\n",
       "      <td>0.834267</td>\n",
       "      <td>0.261206</td>\n",
       "      <td>0.091319</td>\n",
       "      <td>0.496682</td>\n",
       "      <td>0.052335</td>\n",
       "      <td>0.256029</td>\n",
       "      <td>0.243278</td>\n",
       "      <td>0.240808</td>\n",
       "      <td>-0.178664</td>\n",
       "    </tr>\n",
       "    <tr>\n",
       "      <th>SecondServePointsWon</th>\n",
       "      <td>0.005300</td>\n",
       "      <td>0.101417</td>\n",
       "      <td>0.320765</td>\n",
       "      <td>0.072707</td>\n",
       "      <td>1.000000</td>\n",
       "      <td>0.103584</td>\n",
       "      <td>0.266269</td>\n",
       "      <td>0.052755</td>\n",
       "      <td>0.258691</td>\n",
       "      <td>0.277782</td>\n",
       "      <td>...</td>\n",
       "      <td>0.096622</td>\n",
       "      <td>0.095585</td>\n",
       "      <td>0.296809</td>\n",
       "      <td>0.650764</td>\n",
       "      <td>0.622673</td>\n",
       "      <td>0.713076</td>\n",
       "      <td>0.268979</td>\n",
       "      <td>0.250918</td>\n",
       "      <td>0.281215</td>\n",
       "      <td>-0.181013</td>\n",
       "    </tr>\n",
       "    <tr>\n",
       "      <th>SecondServeReturnPointsWon</th>\n",
       "      <td>-0.039087</td>\n",
       "      <td>-0.001924</td>\n",
       "      <td>-0.004724</td>\n",
       "      <td>0.301265</td>\n",
       "      <td>0.103584</td>\n",
       "      <td>1.000000</td>\n",
       "      <td>0.095494</td>\n",
       "      <td>0.264413</td>\n",
       "      <td>0.234212</td>\n",
       "      <td>0.249583</td>\n",
       "      <td>...</td>\n",
       "      <td>0.603755</td>\n",
       "      <td>0.727338</td>\n",
       "      <td>0.209521</td>\n",
       "      <td>0.096553</td>\n",
       "      <td>0.408975</td>\n",
       "      <td>0.055004</td>\n",
       "      <td>0.193093</td>\n",
       "      <td>0.185217</td>\n",
       "      <td>0.199401</td>\n",
       "      <td>-0.159592</td>\n",
       "    </tr>\n",
       "    <tr>\n",
       "      <th>Aces</th>\n",
       "      <td>-0.108367</td>\n",
       "      <td>0.048149</td>\n",
       "      <td>0.460323</td>\n",
       "      <td>0.140165</td>\n",
       "      <td>0.266269</td>\n",
       "      <td>0.095494</td>\n",
       "      <td>1.000000</td>\n",
       "      <td>0.037188</td>\n",
       "      <td>0.757405</td>\n",
       "      <td>0.784934</td>\n",
       "      <td>...</td>\n",
       "      <td>0.139987</td>\n",
       "      <td>0.138023</td>\n",
       "      <td>0.866138</td>\n",
       "      <td>0.440922</td>\n",
       "      <td>0.428679</td>\n",
       "      <td>0.472101</td>\n",
       "      <td>0.825301</td>\n",
       "      <td>0.768628</td>\n",
       "      <td>0.798404</td>\n",
       "      <td>-0.277811</td>\n",
       "    </tr>\n",
       "    <tr>\n",
       "      <th>BreakPointsConverted</th>\n",
       "      <td>-0.072404</td>\n",
       "      <td>-0.018877</td>\n",
       "      <td>-0.041538</td>\n",
       "      <td>0.324057</td>\n",
       "      <td>0.052755</td>\n",
       "      <td>0.264413</td>\n",
       "      <td>0.037188</td>\n",
       "      <td>1.000000</td>\n",
       "      <td>0.096368</td>\n",
       "      <td>0.086502</td>\n",
       "      <td>...</td>\n",
       "      <td>0.561759</td>\n",
       "      <td>0.387170</td>\n",
       "      <td>0.083182</td>\n",
       "      <td>-0.025670</td>\n",
       "      <td>0.255050</td>\n",
       "      <td>-0.007254</td>\n",
       "      <td>0.076989</td>\n",
       "      <td>0.062297</td>\n",
       "      <td>0.075022</td>\n",
       "      <td>-0.051005</td>\n",
       "    </tr>\n",
       "    <tr>\n",
       "      <th>BreakPointsFaced</th>\n",
       "      <td>-0.101735</td>\n",
       "      <td>0.057709</td>\n",
       "      <td>0.301925</td>\n",
       "      <td>0.295724</td>\n",
       "      <td>0.258691</td>\n",
       "      <td>0.234212</td>\n",
       "      <td>0.757405</td>\n",
       "      <td>0.096368</td>\n",
       "      <td>1.000000</td>\n",
       "      <td>0.973352</td>\n",
       "      <td>...</td>\n",
       "      <td>0.335205</td>\n",
       "      <td>0.331043</td>\n",
       "      <td>0.971296</td>\n",
       "      <td>0.354012</td>\n",
       "      <td>0.463110</td>\n",
       "      <td>0.354005</td>\n",
       "      <td>0.883470</td>\n",
       "      <td>0.943309</td>\n",
       "      <td>0.876036</td>\n",
       "      <td>-0.322082</td>\n",
       "    </tr>\n",
       "    <tr>\n",
       "      <th>BreakPointsOpportunities</th>\n",
       "      <td>-0.114806</td>\n",
       "      <td>0.062345</td>\n",
       "      <td>0.324853</td>\n",
       "      <td>0.313338</td>\n",
       "      <td>0.277782</td>\n",
       "      <td>0.249583</td>\n",
       "      <td>0.784934</td>\n",
       "      <td>0.086502</td>\n",
       "      <td>0.973352</td>\n",
       "      <td>1.000000</td>\n",
       "      <td>...</td>\n",
       "      <td>0.358483</td>\n",
       "      <td>0.352783</td>\n",
       "      <td>0.978278</td>\n",
       "      <td>0.372271</td>\n",
       "      <td>0.491198</td>\n",
       "      <td>0.380716</td>\n",
       "      <td>0.923453</td>\n",
       "      <td>0.909295</td>\n",
       "      <td>0.900444</td>\n",
       "      <td>-0.334548</td>\n",
       "    </tr>\n",
       "    <tr>\n",
       "      <th>BreakPointsSaved</th>\n",
       "      <td>-0.006154</td>\n",
       "      <td>0.087945</td>\n",
       "      <td>0.405751</td>\n",
       "      <td>0.048347</td>\n",
       "      <td>0.340147</td>\n",
       "      <td>0.073867</td>\n",
       "      <td>0.282672</td>\n",
       "      <td>-0.015956</td>\n",
       "      <td>0.271783</td>\n",
       "      <td>0.247996</td>\n",
       "      <td>...</td>\n",
       "      <td>0.046127</td>\n",
       "      <td>0.054317</td>\n",
       "      <td>0.274677</td>\n",
       "      <td>0.518091</td>\n",
       "      <td>0.464380</td>\n",
       "      <td>0.476143</td>\n",
       "      <td>0.252053</td>\n",
       "      <td>0.246990</td>\n",
       "      <td>0.258271</td>\n",
       "      <td>-0.121220</td>\n",
       "    </tr>\n",
       "    <tr>\n",
       "      <th>DoubleFaults</th>\n",
       "      <td>-0.071885</td>\n",
       "      <td>-0.005477</td>\n",
       "      <td>0.373321</td>\n",
       "      <td>0.244592</td>\n",
       "      <td>0.235941</td>\n",
       "      <td>0.193233</td>\n",
       "      <td>0.819031</td>\n",
       "      <td>0.075320</td>\n",
       "      <td>0.917645</td>\n",
       "      <td>0.906391</td>\n",
       "      <td>...</td>\n",
       "      <td>0.274225</td>\n",
       "      <td>0.271299</td>\n",
       "      <td>0.925879</td>\n",
       "      <td>0.378686</td>\n",
       "      <td>0.446670</td>\n",
       "      <td>0.383379</td>\n",
       "      <td>0.847459</td>\n",
       "      <td>0.881922</td>\n",
       "      <td>0.854685</td>\n",
       "      <td>-0.305866</td>\n",
       "    </tr>\n",
       "    <tr>\n",
       "      <th>ReturnGamesPlayed</th>\n",
       "      <td>-0.108405</td>\n",
       "      <td>0.071776</td>\n",
       "      <td>0.375465</td>\n",
       "      <td>0.261871</td>\n",
       "      <td>0.296480</td>\n",
       "      <td>0.209937</td>\n",
       "      <td>0.863648</td>\n",
       "      <td>0.083155</td>\n",
       "      <td>0.972449</td>\n",
       "      <td>0.978824</td>\n",
       "      <td>...</td>\n",
       "      <td>0.294470</td>\n",
       "      <td>0.291782</td>\n",
       "      <td>0.999842</td>\n",
       "      <td>0.417825</td>\n",
       "      <td>0.488351</td>\n",
       "      <td>0.428759</td>\n",
       "      <td>0.928408</td>\n",
       "      <td>0.936755</td>\n",
       "      <td>0.912613</td>\n",
       "      <td>-0.331478</td>\n",
       "    </tr>\n",
       "    <tr>\n",
       "      <th>ReturnGamesWon</th>\n",
       "      <td>-0.073256</td>\n",
       "      <td>-0.010676</td>\n",
       "      <td>-0.010193</td>\n",
       "      <td>0.757435</td>\n",
       "      <td>0.096622</td>\n",
       "      <td>0.603755</td>\n",
       "      <td>0.139987</td>\n",
       "      <td>0.561759</td>\n",
       "      <td>0.335205</td>\n",
       "      <td>0.358483</td>\n",
       "      <td>...</td>\n",
       "      <td>1.000000</td>\n",
       "      <td>0.872216</td>\n",
       "      <td>0.293995</td>\n",
       "      <td>0.057315</td>\n",
       "      <td>0.549022</td>\n",
       "      <td>0.037907</td>\n",
       "      <td>0.292920</td>\n",
       "      <td>0.263472</td>\n",
       "      <td>0.279645</td>\n",
       "      <td>-0.191280</td>\n",
       "    </tr>\n",
       "    <tr>\n",
       "      <th>ReturnPointsWon</th>\n",
       "      <td>-0.078229</td>\n",
       "      <td>0.004189</td>\n",
       "      <td>-0.002793</td>\n",
       "      <td>0.834267</td>\n",
       "      <td>0.095585</td>\n",
       "      <td>0.727338</td>\n",
       "      <td>0.138023</td>\n",
       "      <td>0.387170</td>\n",
       "      <td>0.331043</td>\n",
       "      <td>0.352783</td>\n",
       "      <td>...</td>\n",
       "      <td>0.872216</td>\n",
       "      <td>1.000000</td>\n",
       "      <td>0.291102</td>\n",
       "      <td>0.096023</td>\n",
       "      <td>0.565603</td>\n",
       "      <td>0.047758</td>\n",
       "      <td>0.280240</td>\n",
       "      <td>0.265271</td>\n",
       "      <td>0.271646</td>\n",
       "      <td>-0.202597</td>\n",
       "    </tr>\n",
       "    <tr>\n",
       "      <th>ServiceGamesPlayed</th>\n",
       "      <td>-0.108477</td>\n",
       "      <td>0.071920</td>\n",
       "      <td>0.376460</td>\n",
       "      <td>0.261206</td>\n",
       "      <td>0.296809</td>\n",
       "      <td>0.209521</td>\n",
       "      <td>0.866138</td>\n",
       "      <td>0.083182</td>\n",
       "      <td>0.971296</td>\n",
       "      <td>0.978278</td>\n",
       "      <td>...</td>\n",
       "      <td>0.293995</td>\n",
       "      <td>0.291102</td>\n",
       "      <td>1.000000</td>\n",
       "      <td>0.418467</td>\n",
       "      <td>0.488998</td>\n",
       "      <td>0.429605</td>\n",
       "      <td>0.929153</td>\n",
       "      <td>0.935182</td>\n",
       "      <td>0.912985</td>\n",
       "      <td>-0.331738</td>\n",
       "    </tr>\n",
       "    <tr>\n",
       "      <th>ServiceGamesWon</th>\n",
       "      <td>-0.008930</td>\n",
       "      <td>0.137473</td>\n",
       "      <td>0.817829</td>\n",
       "      <td>0.091319</td>\n",
       "      <td>0.650764</td>\n",
       "      <td>0.096553</td>\n",
       "      <td>0.440922</td>\n",
       "      <td>-0.025670</td>\n",
       "      <td>0.354012</td>\n",
       "      <td>0.372271</td>\n",
       "      <td>...</td>\n",
       "      <td>0.057315</td>\n",
       "      <td>0.096023</td>\n",
       "      <td>0.418467</td>\n",
       "      <td>1.000000</td>\n",
       "      <td>0.727091</td>\n",
       "      <td>0.934764</td>\n",
       "      <td>0.385040</td>\n",
       "      <td>0.367345</td>\n",
       "      <td>0.395577</td>\n",
       "      <td>-0.198822</td>\n",
       "    </tr>\n",
       "    <tr>\n",
       "      <th>TotalPointsWon</th>\n",
       "      <td>-0.041790</td>\n",
       "      <td>0.148349</td>\n",
       "      <td>0.648753</td>\n",
       "      <td>0.496682</td>\n",
       "      <td>0.622673</td>\n",
       "      <td>0.408975</td>\n",
       "      <td>0.428679</td>\n",
       "      <td>0.255050</td>\n",
       "      <td>0.463110</td>\n",
       "      <td>0.491198</td>\n",
       "      <td>...</td>\n",
       "      <td>0.549022</td>\n",
       "      <td>0.565603</td>\n",
       "      <td>0.488998</td>\n",
       "      <td>0.727091</td>\n",
       "      <td>1.000000</td>\n",
       "      <td>0.791356</td>\n",
       "      <td>0.459368</td>\n",
       "      <td>0.428543</td>\n",
       "      <td>0.461061</td>\n",
       "      <td>-0.272007</td>\n",
       "    </tr>\n",
       "    <tr>\n",
       "      <th>TotalServicePointsWon</th>\n",
       "      <td>-0.005544</td>\n",
       "      <td>0.180996</td>\n",
       "      <td>0.860033</td>\n",
       "      <td>0.052335</td>\n",
       "      <td>0.713076</td>\n",
       "      <td>0.055004</td>\n",
       "      <td>0.472101</td>\n",
       "      <td>-0.007254</td>\n",
       "      <td>0.354005</td>\n",
       "      <td>0.380716</td>\n",
       "      <td>...</td>\n",
       "      <td>0.037907</td>\n",
       "      <td>0.047758</td>\n",
       "      <td>0.429605</td>\n",
       "      <td>0.934764</td>\n",
       "      <td>0.791356</td>\n",
       "      <td>1.000000</td>\n",
       "      <td>0.399270</td>\n",
       "      <td>0.371283</td>\n",
       "      <td>0.407707</td>\n",
       "      <td>-0.208355</td>\n",
       "    </tr>\n",
       "    <tr>\n",
       "      <th>Wins</th>\n",
       "      <td>-0.108235</td>\n",
       "      <td>0.064832</td>\n",
       "      <td>0.356702</td>\n",
       "      <td>0.256029</td>\n",
       "      <td>0.268979</td>\n",
       "      <td>0.193093</td>\n",
       "      <td>0.825301</td>\n",
       "      <td>0.076989</td>\n",
       "      <td>0.883470</td>\n",
       "      <td>0.923453</td>\n",
       "      <td>...</td>\n",
       "      <td>0.292920</td>\n",
       "      <td>0.280240</td>\n",
       "      <td>0.929153</td>\n",
       "      <td>0.385040</td>\n",
       "      <td>0.459368</td>\n",
       "      <td>0.399270</td>\n",
       "      <td>1.000000</td>\n",
       "      <td>0.878732</td>\n",
       "      <td>0.913297</td>\n",
       "      <td>-0.287018</td>\n",
       "    </tr>\n",
       "    <tr>\n",
       "      <th>Losses</th>\n",
       "      <td>-0.077181</td>\n",
       "      <td>0.053736</td>\n",
       "      <td>0.330581</td>\n",
       "      <td>0.243278</td>\n",
       "      <td>0.250918</td>\n",
       "      <td>0.185217</td>\n",
       "      <td>0.768628</td>\n",
       "      <td>0.062297</td>\n",
       "      <td>0.943309</td>\n",
       "      <td>0.909295</td>\n",
       "      <td>...</td>\n",
       "      <td>0.263472</td>\n",
       "      <td>0.265271</td>\n",
       "      <td>0.935182</td>\n",
       "      <td>0.367345</td>\n",
       "      <td>0.428543</td>\n",
       "      <td>0.371283</td>\n",
       "      <td>0.878732</td>\n",
       "      <td>1.000000</td>\n",
       "      <td>0.869277</td>\n",
       "      <td>-0.300614</td>\n",
       "    </tr>\n",
       "    <tr>\n",
       "      <th>Winnings</th>\n",
       "      <td>0.043908</td>\n",
       "      <td>0.057882</td>\n",
       "      <td>0.361121</td>\n",
       "      <td>0.240808</td>\n",
       "      <td>0.281215</td>\n",
       "      <td>0.199401</td>\n",
       "      <td>0.798404</td>\n",
       "      <td>0.075022</td>\n",
       "      <td>0.876036</td>\n",
       "      <td>0.900444</td>\n",
       "      <td>...</td>\n",
       "      <td>0.279645</td>\n",
       "      <td>0.271646</td>\n",
       "      <td>0.912985</td>\n",
       "      <td>0.395577</td>\n",
       "      <td>0.461061</td>\n",
       "      <td>0.407707</td>\n",
       "      <td>0.913297</td>\n",
       "      <td>0.869277</td>\n",
       "      <td>1.000000</td>\n",
       "      <td>-0.359835</td>\n",
       "    </tr>\n",
       "    <tr>\n",
       "      <th>Ranking</th>\n",
       "      <td>-0.040483</td>\n",
       "      <td>-0.068759</td>\n",
       "      <td>-0.150004</td>\n",
       "      <td>-0.178664</td>\n",
       "      <td>-0.181013</td>\n",
       "      <td>-0.159592</td>\n",
       "      <td>-0.277811</td>\n",
       "      <td>-0.051005</td>\n",
       "      <td>-0.322082</td>\n",
       "      <td>-0.334548</td>\n",
       "      <td>...</td>\n",
       "      <td>-0.191280</td>\n",
       "      <td>-0.202597</td>\n",
       "      <td>-0.331738</td>\n",
       "      <td>-0.198822</td>\n",
       "      <td>-0.272007</td>\n",
       "      <td>-0.208355</td>\n",
       "      <td>-0.287018</td>\n",
       "      <td>-0.300614</td>\n",
       "      <td>-0.359835</td>\n",
       "      <td>1.000000</td>\n",
       "    </tr>\n",
       "  </tbody>\n",
       "</table>\n",
       "<p>23 rows × 23 columns</p>\n",
       "</div>"
      ],
      "text/plain": [
       "                                Year  FirstServe  FirstServePointsWon  \\\n",
       "Year                        1.000000    0.051406            -0.016728   \n",
       "FirstServe                  0.051406    1.000000            -0.070659   \n",
       "FirstServePointsWon        -0.016728   -0.070659             1.000000   \n",
       "FirstServeReturnPointsWon  -0.106784    0.025488             0.021729   \n",
       "SecondServePointsWon        0.005300    0.101417             0.320765   \n",
       "SecondServeReturnPointsWon -0.039087   -0.001924            -0.004724   \n",
       "Aces                       -0.108367    0.048149             0.460323   \n",
       "BreakPointsConverted       -0.072404   -0.018877            -0.041538   \n",
       "BreakPointsFaced           -0.101735    0.057709             0.301925   \n",
       "BreakPointsOpportunities   -0.114806    0.062345             0.324853   \n",
       "BreakPointsSaved           -0.006154    0.087945             0.405751   \n",
       "DoubleFaults               -0.071885   -0.005477             0.373321   \n",
       "ReturnGamesPlayed          -0.108405    0.071776             0.375465   \n",
       "ReturnGamesWon             -0.073256   -0.010676            -0.010193   \n",
       "ReturnPointsWon            -0.078229    0.004189            -0.002793   \n",
       "ServiceGamesPlayed         -0.108477    0.071920             0.376460   \n",
       "ServiceGamesWon            -0.008930    0.137473             0.817829   \n",
       "TotalPointsWon             -0.041790    0.148349             0.648753   \n",
       "TotalServicePointsWon      -0.005544    0.180996             0.860033   \n",
       "Wins                       -0.108235    0.064832             0.356702   \n",
       "Losses                     -0.077181    0.053736             0.330581   \n",
       "Winnings                    0.043908    0.057882             0.361121   \n",
       "Ranking                    -0.040483   -0.068759            -0.150004   \n",
       "\n",
       "                            FirstServeReturnPointsWon  SecondServePointsWon  \\\n",
       "Year                                        -0.106784              0.005300   \n",
       "FirstServe                                   0.025488              0.101417   \n",
       "FirstServePointsWon                          0.021729              0.320765   \n",
       "FirstServeReturnPointsWon                    1.000000              0.072707   \n",
       "SecondServePointsWon                         0.072707              1.000000   \n",
       "SecondServeReturnPointsWon                   0.301265              0.103584   \n",
       "Aces                                         0.140165              0.266269   \n",
       "BreakPointsConverted                         0.324057              0.052755   \n",
       "BreakPointsFaced                             0.295724              0.258691   \n",
       "BreakPointsOpportunities                     0.313338              0.277782   \n",
       "BreakPointsSaved                             0.048347              0.340147   \n",
       "DoubleFaults                                 0.244592              0.235941   \n",
       "ReturnGamesPlayed                            0.261871              0.296480   \n",
       "ReturnGamesWon                               0.757435              0.096622   \n",
       "ReturnPointsWon                              0.834267              0.095585   \n",
       "ServiceGamesPlayed                           0.261206              0.296809   \n",
       "ServiceGamesWon                              0.091319              0.650764   \n",
       "TotalPointsWon                               0.496682              0.622673   \n",
       "TotalServicePointsWon                        0.052335              0.713076   \n",
       "Wins                                         0.256029              0.268979   \n",
       "Losses                                       0.243278              0.250918   \n",
       "Winnings                                     0.240808              0.281215   \n",
       "Ranking                                     -0.178664             -0.181013   \n",
       "\n",
       "                            SecondServeReturnPointsWon      Aces  \\\n",
       "Year                                         -0.039087 -0.108367   \n",
       "FirstServe                                   -0.001924  0.048149   \n",
       "FirstServePointsWon                          -0.004724  0.460323   \n",
       "FirstServeReturnPointsWon                     0.301265  0.140165   \n",
       "SecondServePointsWon                          0.103584  0.266269   \n",
       "SecondServeReturnPointsWon                    1.000000  0.095494   \n",
       "Aces                                          0.095494  1.000000   \n",
       "BreakPointsConverted                          0.264413  0.037188   \n",
       "BreakPointsFaced                              0.234212  0.757405   \n",
       "BreakPointsOpportunities                      0.249583  0.784934   \n",
       "BreakPointsSaved                              0.073867  0.282672   \n",
       "DoubleFaults                                  0.193233  0.819031   \n",
       "ReturnGamesPlayed                             0.209937  0.863648   \n",
       "ReturnGamesWon                                0.603755  0.139987   \n",
       "ReturnPointsWon                               0.727338  0.138023   \n",
       "ServiceGamesPlayed                            0.209521  0.866138   \n",
       "ServiceGamesWon                               0.096553  0.440922   \n",
       "TotalPointsWon                                0.408975  0.428679   \n",
       "TotalServicePointsWon                         0.055004  0.472101   \n",
       "Wins                                          0.193093  0.825301   \n",
       "Losses                                        0.185217  0.768628   \n",
       "Winnings                                      0.199401  0.798404   \n",
       "Ranking                                      -0.159592 -0.277811   \n",
       "\n",
       "                            BreakPointsConverted  BreakPointsFaced  \\\n",
       "Year                                   -0.072404         -0.101735   \n",
       "FirstServe                             -0.018877          0.057709   \n",
       "FirstServePointsWon                    -0.041538          0.301925   \n",
       "FirstServeReturnPointsWon               0.324057          0.295724   \n",
       "SecondServePointsWon                    0.052755          0.258691   \n",
       "SecondServeReturnPointsWon              0.264413          0.234212   \n",
       "Aces                                    0.037188          0.757405   \n",
       "BreakPointsConverted                    1.000000          0.096368   \n",
       "BreakPointsFaced                        0.096368          1.000000   \n",
       "BreakPointsOpportunities                0.086502          0.973352   \n",
       "BreakPointsSaved                       -0.015956          0.271783   \n",
       "DoubleFaults                            0.075320          0.917645   \n",
       "ReturnGamesPlayed                       0.083155          0.972449   \n",
       "ReturnGamesWon                          0.561759          0.335205   \n",
       "ReturnPointsWon                         0.387170          0.331043   \n",
       "ServiceGamesPlayed                      0.083182          0.971296   \n",
       "ServiceGamesWon                        -0.025670          0.354012   \n",
       "TotalPointsWon                          0.255050          0.463110   \n",
       "TotalServicePointsWon                  -0.007254          0.354005   \n",
       "Wins                                    0.076989          0.883470   \n",
       "Losses                                  0.062297          0.943309   \n",
       "Winnings                                0.075022          0.876036   \n",
       "Ranking                                -0.051005         -0.322082   \n",
       "\n",
       "                            BreakPointsOpportunities  ...  ReturnGamesWon  \\\n",
       "Year                                       -0.114806  ...       -0.073256   \n",
       "FirstServe                                  0.062345  ...       -0.010676   \n",
       "FirstServePointsWon                         0.324853  ...       -0.010193   \n",
       "FirstServeReturnPointsWon                   0.313338  ...        0.757435   \n",
       "SecondServePointsWon                        0.277782  ...        0.096622   \n",
       "SecondServeReturnPointsWon                  0.249583  ...        0.603755   \n",
       "Aces                                        0.784934  ...        0.139987   \n",
       "BreakPointsConverted                        0.086502  ...        0.561759   \n",
       "BreakPointsFaced                            0.973352  ...        0.335205   \n",
       "BreakPointsOpportunities                    1.000000  ...        0.358483   \n",
       "BreakPointsSaved                            0.247996  ...        0.046127   \n",
       "DoubleFaults                                0.906391  ...        0.274225   \n",
       "ReturnGamesPlayed                           0.978824  ...        0.294470   \n",
       "ReturnGamesWon                              0.358483  ...        1.000000   \n",
       "ReturnPointsWon                             0.352783  ...        0.872216   \n",
       "ServiceGamesPlayed                          0.978278  ...        0.293995   \n",
       "ServiceGamesWon                             0.372271  ...        0.057315   \n",
       "TotalPointsWon                              0.491198  ...        0.549022   \n",
       "TotalServicePointsWon                       0.380716  ...        0.037907   \n",
       "Wins                                        0.923453  ...        0.292920   \n",
       "Losses                                      0.909295  ...        0.263472   \n",
       "Winnings                                    0.900444  ...        0.279645   \n",
       "Ranking                                    -0.334548  ...       -0.191280   \n",
       "\n",
       "                            ReturnPointsWon  ServiceGamesPlayed  \\\n",
       "Year                              -0.078229           -0.108477   \n",
       "FirstServe                         0.004189            0.071920   \n",
       "FirstServePointsWon               -0.002793            0.376460   \n",
       "FirstServeReturnPointsWon          0.834267            0.261206   \n",
       "SecondServePointsWon               0.095585            0.296809   \n",
       "SecondServeReturnPointsWon         0.727338            0.209521   \n",
       "Aces                               0.138023            0.866138   \n",
       "BreakPointsConverted               0.387170            0.083182   \n",
       "BreakPointsFaced                   0.331043            0.971296   \n",
       "BreakPointsOpportunities           0.352783            0.978278   \n",
       "BreakPointsSaved                   0.054317            0.274677   \n",
       "DoubleFaults                       0.271299            0.925879   \n",
       "ReturnGamesPlayed                  0.291782            0.999842   \n",
       "ReturnGamesWon                     0.872216            0.293995   \n",
       "ReturnPointsWon                    1.000000            0.291102   \n",
       "ServiceGamesPlayed                 0.291102            1.000000   \n",
       "ServiceGamesWon                    0.096023            0.418467   \n",
       "TotalPointsWon                     0.565603            0.488998   \n",
       "TotalServicePointsWon              0.047758            0.429605   \n",
       "Wins                               0.280240            0.929153   \n",
       "Losses                             0.265271            0.935182   \n",
       "Winnings                           0.271646            0.912985   \n",
       "Ranking                           -0.202597           -0.331738   \n",
       "\n",
       "                            ServiceGamesWon  TotalPointsWon  \\\n",
       "Year                              -0.008930       -0.041790   \n",
       "FirstServe                         0.137473        0.148349   \n",
       "FirstServePointsWon                0.817829        0.648753   \n",
       "FirstServeReturnPointsWon          0.091319        0.496682   \n",
       "SecondServePointsWon               0.650764        0.622673   \n",
       "SecondServeReturnPointsWon         0.096553        0.408975   \n",
       "Aces                               0.440922        0.428679   \n",
       "BreakPointsConverted              -0.025670        0.255050   \n",
       "BreakPointsFaced                   0.354012        0.463110   \n",
       "BreakPointsOpportunities           0.372271        0.491198   \n",
       "BreakPointsSaved                   0.518091        0.464380   \n",
       "DoubleFaults                       0.378686        0.446670   \n",
       "ReturnGamesPlayed                  0.417825        0.488351   \n",
       "ReturnGamesWon                     0.057315        0.549022   \n",
       "ReturnPointsWon                    0.096023        0.565603   \n",
       "ServiceGamesPlayed                 0.418467        0.488998   \n",
       "ServiceGamesWon                    1.000000        0.727091   \n",
       "TotalPointsWon                     0.727091        1.000000   \n",
       "TotalServicePointsWon              0.934764        0.791356   \n",
       "Wins                               0.385040        0.459368   \n",
       "Losses                             0.367345        0.428543   \n",
       "Winnings                           0.395577        0.461061   \n",
       "Ranking                           -0.198822       -0.272007   \n",
       "\n",
       "                            TotalServicePointsWon      Wins    Losses  \\\n",
       "Year                                    -0.005544 -0.108235 -0.077181   \n",
       "FirstServe                               0.180996  0.064832  0.053736   \n",
       "FirstServePointsWon                      0.860033  0.356702  0.330581   \n",
       "FirstServeReturnPointsWon                0.052335  0.256029  0.243278   \n",
       "SecondServePointsWon                     0.713076  0.268979  0.250918   \n",
       "SecondServeReturnPointsWon               0.055004  0.193093  0.185217   \n",
       "Aces                                     0.472101  0.825301  0.768628   \n",
       "BreakPointsConverted                    -0.007254  0.076989  0.062297   \n",
       "BreakPointsFaced                         0.354005  0.883470  0.943309   \n",
       "BreakPointsOpportunities                 0.380716  0.923453  0.909295   \n",
       "BreakPointsSaved                         0.476143  0.252053  0.246990   \n",
       "DoubleFaults                             0.383379  0.847459  0.881922   \n",
       "ReturnGamesPlayed                        0.428759  0.928408  0.936755   \n",
       "ReturnGamesWon                           0.037907  0.292920  0.263472   \n",
       "ReturnPointsWon                          0.047758  0.280240  0.265271   \n",
       "ServiceGamesPlayed                       0.429605  0.929153  0.935182   \n",
       "ServiceGamesWon                          0.934764  0.385040  0.367345   \n",
       "TotalPointsWon                           0.791356  0.459368  0.428543   \n",
       "TotalServicePointsWon                    1.000000  0.399270  0.371283   \n",
       "Wins                                     0.399270  1.000000  0.878732   \n",
       "Losses                                   0.371283  0.878732  1.000000   \n",
       "Winnings                                 0.407707  0.913297  0.869277   \n",
       "Ranking                                 -0.208355 -0.287018 -0.300614   \n",
       "\n",
       "                            Winnings   Ranking  \n",
       "Year                        0.043908 -0.040483  \n",
       "FirstServe                  0.057882 -0.068759  \n",
       "FirstServePointsWon         0.361121 -0.150004  \n",
       "FirstServeReturnPointsWon   0.240808 -0.178664  \n",
       "SecondServePointsWon        0.281215 -0.181013  \n",
       "SecondServeReturnPointsWon  0.199401 -0.159592  \n",
       "Aces                        0.798404 -0.277811  \n",
       "BreakPointsConverted        0.075022 -0.051005  \n",
       "BreakPointsFaced            0.876036 -0.322082  \n",
       "BreakPointsOpportunities    0.900444 -0.334548  \n",
       "BreakPointsSaved            0.258271 -0.121220  \n",
       "DoubleFaults                0.854685 -0.305866  \n",
       "ReturnGamesPlayed           0.912613 -0.331478  \n",
       "ReturnGamesWon              0.279645 -0.191280  \n",
       "ReturnPointsWon             0.271646 -0.202597  \n",
       "ServiceGamesPlayed          0.912985 -0.331738  \n",
       "ServiceGamesWon             0.395577 -0.198822  \n",
       "TotalPointsWon              0.461061 -0.272007  \n",
       "TotalServicePointsWon       0.407707 -0.208355  \n",
       "Wins                        0.913297 -0.287018  \n",
       "Losses                      0.869277 -0.300614  \n",
       "Winnings                    1.000000 -0.359835  \n",
       "Ranking                    -0.359835  1.000000  \n",
       "\n",
       "[23 rows x 23 columns]"
      ]
     },
     "execution_count": 3,
     "metadata": {},
     "output_type": "execute_result"
    }
   ],
   "source": [
    "df.corr() # check correlation between variables "
   ]
  },
  {
   "cell_type": "code",
   "execution_count": 4,
   "metadata": {},
   "outputs": [
    {
     "data": {
      "text/plain": [
       "Player                        False\n",
       "Year                          False\n",
       "FirstServe                    False\n",
       "FirstServePointsWon           False\n",
       "FirstServeReturnPointsWon     False\n",
       "SecondServePointsWon          False\n",
       "SecondServeReturnPointsWon    False\n",
       "Aces                          False\n",
       "BreakPointsConverted          False\n",
       "BreakPointsFaced              False\n",
       "BreakPointsOpportunities      False\n",
       "BreakPointsSaved              False\n",
       "DoubleFaults                  False\n",
       "ReturnGamesPlayed             False\n",
       "ReturnGamesWon                False\n",
       "ReturnPointsWon               False\n",
       "ServiceGamesPlayed            False\n",
       "ServiceGamesWon               False\n",
       "TotalPointsWon                False\n",
       "TotalServicePointsWon         False\n",
       "Wins                          False\n",
       "Losses                        False\n",
       "Winnings                      False\n",
       "Ranking                       False\n",
       "dtype: bool"
      ]
     },
     "execution_count": 4,
     "metadata": {},
     "output_type": "execute_result"
    }
   ],
   "source": [
    "df.isna().any() # check for NaN values"
   ]
  },
  {
   "cell_type": "markdown",
   "metadata": {},
   "source": [
    "#### Task 3 - Perform exploratory analysis on the data by plotting different features against the different outcomes"
   ]
  },
  {
   "cell_type": "code",
   "execution_count": 5,
   "metadata": {},
   "outputs": [
    {
     "data": {
      "image/png": "[encoded data removed]",
      "text/plain": [
       "<Figure size 432x288 with 1 Axes>"
      ]
     },
     "metadata": {
      "needs_background": "light"
     },
     "output_type": "display_data"
    }
   ],
   "source": [
    "plt.scatter(df['Winnings'], df['BreakPointsOpportunities'], alpha=0.3)\n",
    "plt.xlabel('Winnings')\n",
    "plt.ylabel('Break Points Opportunities')\n",
    "plt.show()"
   ]
  },
  {
   "cell_type": "code",
   "execution_count": 6,
   "metadata": {},
   "outputs": [
    {
     "data": {
      "image/png": "[encoded data removed]",
      "text/plain": [
       "<Figure size 432x288 with 1 Axes>"
      ]
     },
     "metadata": {
      "needs_background": "light"
     },
     "output_type": "display_data"
    }
   ],
   "source": [
    "plt.scatter(df['Winnings'], df['ServiceGamesPlayed'], alpha=0.3)\n",
    "plt.xlabel('Winnings')\n",
    "plt.ylabel('Service Games Played')\n",
    "plt.show()"
   ]
  },
  {
   "cell_type": "code",
   "execution_count": 7,
   "metadata": {},
   "outputs": [
    {
     "data": {
      "image/png": "[encoded data removed]",
      "text/plain": [
       "<Figure size 432x288 with 1 Axes>"
      ]
     },
     "metadata": {
      "needs_background": "light"
     },
     "output_type": "display_data"
    }
   ],
   "source": [
    "plt.scatter(df['Winnings'], df['DoubleFaults'], alpha=0.3)\n",
    "plt.xlabel('Winnings')\n",
    "plt.ylabel('Double Faults')\n",
    "plt.show()"
   ]
  },
  {
   "cell_type": "markdown",
   "metadata": {},
   "source": [
    "#### Task 4 - Use one feature from the dataset to build a single feature linear regression model on the data"
   ]
  },
  {
   "cell_type": "code",
   "execution_count": 8,
   "metadata": {},
   "outputs": [],
   "source": [
    "features = df['FirstServeReturnPointsWon']\n",
    "features = features.values.reshape(-1,1)\n",
    "outcome = df['Winnings']\n",
    "outcome = outcome.values.reshape(-1,1)"
   ]
  },
  {
   "cell_type": "code",
   "execution_count": 9,
   "metadata": {},
   "outputs": [],
   "source": [
    "x_train, x_test, y_train, y_test = train_test_split(features, outcome, train_size = 0.8, test_size = 0.2)"
   ]
  },
  {
   "cell_type": "code",
   "execution_count": 10,
   "metadata": {},
   "outputs": [
    {
     "data": {
      "text/plain": [
       "LinearRegression()"
      ]
     },
     "execution_count": 10,
     "metadata": {},
     "output_type": "execute_result"
    }
   ],
   "source": [
    "model = LinearRegression()\n",
    "model.fit(x_train, y_train)"
   ]
  },
  {
   "cell_type": "code",
   "execution_count": 11,
   "metadata": {},
   "outputs": [
    {
     "data": {
      "text/plain": [
       "0.06622957003424712"
      ]
     },
     "execution_count": 11,
     "metadata": {},
     "output_type": "execute_result"
    }
   ],
   "source": [
    "model.score(x_test, y_test)"
   ]
  },
  {
   "cell_type": "code",
   "execution_count": 12,
   "metadata": {},
   "outputs": [],
   "source": [
    "y_predict = model.predict(x_test)"
   ]
  },
  {
   "cell_type": "code",
   "execution_count": 13,
   "metadata": {},
   "outputs": [
    {
     "data": {
      "image/png": "[encoded data removed]",
      "text/plain": [
       "<Figure size 432x288 with 1 Axes>"
      ]
     },
     "metadata": {
      "needs_background": "light"
     },
     "output_type": "display_data"
    }
   ],
   "source": [
    "plt.scatter(y_test, y_predict, alpha=0.4)\n",
    "plt.xlabel('Winnings')\n",
    "plt.ylabel('Predicted Winnings')\n",
    "plt.show()"
   ]
  },
  {
   "cell_type": "markdown",
   "metadata": {},
   "source": [
    "#### Task 5 - Create a few more linear regression models that use one feature to predict one of the outcomes"
   ]
  },
  {
   "cell_type": "code",
   "execution_count": 14,
   "metadata": {},
   "outputs": [],
   "source": [
    "f_1 = df['SecondServePointsWon']\n",
    "f_1 = f_1.values.reshape(-1, 1)\n",
    "o_1 = df['Winnings']\n",
    "o_1 = o_1.values.reshape(-1, 1)"
   ]
  },
  {
   "cell_type": "code",
   "execution_count": 15,
   "metadata": {},
   "outputs": [],
   "source": [
    "f_1_train, f_1_test, o_1_train, o_1_test = train_test_split(f_1, o_1, train_size = 0.8, test_size = 0.2)"
   ]
  },
  {
   "cell_type": "code",
   "execution_count": 16,
   "metadata": {},
   "outputs": [
    {
     "data": {
      "text/plain": [
       "LinearRegression()"
      ]
     },
     "execution_count": 16,
     "metadata": {},
     "output_type": "execute_result"
    }
   ],
   "source": [
    "m1 = LinearRegression()\n",
    "m1.fit(f_1_train, o_1_train)"
   ]
  },
  {
   "cell_type": "code",
   "execution_count": 17,
   "metadata": {},
   "outputs": [
    {
     "data": {
      "text/plain": [
       "0.055163007282898247"
      ]
     },
     "execution_count": 17,
     "metadata": {},
     "output_type": "execute_result"
    }
   ],
   "source": [
    "m1.score(f_1_test, o_1_test)"
   ]
  },
  {
   "cell_type": "code",
   "execution_count": 18,
   "metadata": {},
   "outputs": [],
   "source": [
    "y_predict1 = m1.predict(f_1_test)"
   ]
  },
  {
   "cell_type": "code",
   "execution_count": 19,
   "metadata": {},
   "outputs": [
    {
     "data": {
      "image/png": "[encoded data removed]",
      "text/plain": [
       "<Figure size 432x288 with 1 Axes>"
      ]
     },
     "metadata": {
      "needs_background": "light"
     },
     "output_type": "display_data"
    }
   ],
   "source": [
    "plt.scatter(o_1_test, y_predict1, alpha=0.4)\n",
    "plt.xlabel('Winnings')\n",
    "plt.ylabel('Predicted Winnings')\n",
    "plt.show()"
   ]
  },
  {
   "cell_type": "code",
   "execution_count": 20,
   "metadata": {},
   "outputs": [],
   "source": [
    "f_2 = df['SecondServeReturnPointsWon']\n",
    "f_2 = f_2.values.reshape(-1, 1)\n",
    "o_2 = df['Winnings']\n",
    "o_2 = o_2.values.reshape(-1, 1)"
   ]
  },
  {
   "cell_type": "code",
   "execution_count": 21,
   "metadata": {},
   "outputs": [],
   "source": [
    "f_2_train, f_2_test, o_2_train, o_2_test = train_test_split(f_2, o_2, train_size = 0.8, test_size = 0.2)"
   ]
  },
  {
   "cell_type": "code",
   "execution_count": 22,
   "metadata": {},
   "outputs": [
    {
     "data": {
      "text/plain": [
       "LinearRegression()"
      ]
     },
     "execution_count": 22,
     "metadata": {},
     "output_type": "execute_result"
    }
   ],
   "source": [
    "m2 = LinearRegression()\n",
    "m2.fit(f_2_train, o_2_train)"
   ]
  },
  {
   "cell_type": "code",
   "execution_count": 23,
   "metadata": {},
   "outputs": [
    {
     "data": {
      "text/plain": [
       "0.026617313257011777"
      ]
     },
     "execution_count": 23,
     "metadata": {},
     "output_type": "execute_result"
    }
   ],
   "source": [
    "m2.score(f_2_test, o_2_test)"
   ]
  },
  {
   "cell_type": "code",
   "execution_count": 24,
   "metadata": {},
   "outputs": [],
   "source": [
    "y_predict2 = m2.predict(f_2_test)"
   ]
  },
  {
   "cell_type": "code",
   "execution_count": 25,
   "metadata": {},
   "outputs": [
    {
     "data": {
      "image/png": "[encoded data removed]",
      "text/plain": [
       "<Figure size 432x288 with 1 Axes>"
      ]
     },
     "metadata": {
      "needs_background": "light"
     },
     "output_type": "display_data"
    }
   ],
   "source": [
    "plt.scatter(o_2_test, y_predict2, alpha=0.4)\n",
    "plt.xlabel('Winnings')\n",
    "plt.ylabel('Predicted Winnings')\n",
    "plt.show()"
   ]
  },
  {
   "cell_type": "markdown",
   "metadata": {},
   "source": [
    "#### Task 6 - Create a few linear regression models that use two features to predict yearly earnings"
   ]
  },
  {
   "cell_type": "code",
   "execution_count": 26,
   "metadata": {},
   "outputs": [],
   "source": [
    "features = df[['BreakPointsOpportunities',\n",
    "'FirstServeReturnPointsWon']]\n",
    "outcome = df[['Winnings']]"
   ]
  },
  {
   "cell_type": "code",
   "execution_count": 27,
   "metadata": {},
   "outputs": [],
   "source": [
    "x3_train, x3_test, y3_train, y3_test = train_test_split(features, outcome, train_size = 0.8, test_size = 0.2)"
   ]
  },
  {
   "cell_type": "code",
   "execution_count": 28,
   "metadata": {},
   "outputs": [
    {
     "data": {
      "text/plain": [
       "LinearRegression()"
      ]
     },
     "execution_count": 28,
     "metadata": {},
     "output_type": "execute_result"
    }
   ],
   "source": [
    "m3 = LinearRegression()\n",
    "m3.fit(x3_train, y3_train)"
   ]
  },
  {
   "cell_type": "code",
   "execution_count": 29,
   "metadata": {},
   "outputs": [
    {
     "data": {
      "text/plain": [
       "0.790279972125537"
      ]
     },
     "execution_count": 29,
     "metadata": {},
     "output_type": "execute_result"
    }
   ],
   "source": [
    "m3.score(x3_test, y3_test)"
   ]
  },
  {
   "cell_type": "code",
   "execution_count": 30,
   "metadata": {},
   "outputs": [],
   "source": [
    "y_predict3 = m3.predict(x3_test)"
   ]
  },
  {
   "cell_type": "code",
   "execution_count": 31,
   "metadata": {},
   "outputs": [
    {
     "data": {
      "image/png": "[encoded data removed]",
      "text/plain": [
       "<Figure size 432x288 with 1 Axes>"
      ]
     },
     "metadata": {
      "needs_background": "light"
     },
     "output_type": "display_data"
    }
   ],
   "source": [
    "plt.scatter(y3_test, y_predict3, alpha=0.4)\n",
    "plt.xlabel('Winnings')\n",
    "plt.ylabel('Predicted Winnings')\n",
    "plt.show()"
   ]
  },
  {
   "cell_type": "code",
   "execution_count": 32,
   "metadata": {},
   "outputs": [],
   "source": [
    "features = df[['ServiceGamesPlayed',\n",
    "'ServiceGamesWon']]\n",
    "outcome = df[['Winnings']]"
   ]
  },
  {
   "cell_type": "code",
   "execution_count": 33,
   "metadata": {},
   "outputs": [],
   "source": [
    "x4_train, x4_test, y4_train, y4_test = train_test_split(features, outcome, train_size = 0.8, test_size = 0.2)"
   ]
  },
  {
   "cell_type": "code",
   "execution_count": 34,
   "metadata": {},
   "outputs": [
    {
     "data": {
      "text/plain": [
       "LinearRegression()"
      ]
     },
     "execution_count": 34,
     "metadata": {},
     "output_type": "execute_result"
    }
   ],
   "source": [
    "m4 = LinearRegression()\n",
    "m4.fit(x4_train, y4_train)"
   ]
  },
  {
   "cell_type": "code",
   "execution_count": 35,
   "metadata": {},
   "outputs": [
    {
     "data": {
      "text/plain": [
       "0.8382011559236494"
      ]
     },
     "execution_count": 35,
     "metadata": {},
     "output_type": "execute_result"
    }
   ],
   "source": [
    "m4.score(x4_test, y4_test)"
   ]
  },
  {
   "cell_type": "code",
   "execution_count": 36,
   "metadata": {},
   "outputs": [],
   "source": [
    "y_predict4 = m4.predict(x4_test)"
   ]
  },
  {
   "cell_type": "code",
   "execution_count": 37,
   "metadata": {},
   "outputs": [
    {
     "data": {
      "image/png": "[encoded data removed]",
      "text/plain": [
       "<Figure size 432x288 with 1 Axes>"
      ]
     },
     "metadata": {
      "needs_background": "light"
     },
     "output_type": "display_data"
    }
   ],
   "source": [
    "plt.scatter(y4_test, y_predict4, alpha=0.4)\n",
    "plt.xlabel('Winnings')\n",
    "plt.ylabel('Predicted Winnings')\n",
    "plt.show()"
   ]
  },
  {
   "cell_type": "markdown",
   "metadata": {},
   "source": [
    "#### Task 7 - Create a few linear regression models that use multiple features to predict yearly earnings"
   ]
  },
  {
   "cell_type": "code",
   "execution_count": 38,
   "metadata": {},
   "outputs": [],
   "source": [
    "features = df[['FirstServe','FirstServePointsWon','FirstServeReturnPointsWon',\n",
    "'SecondServePointsWon','SecondServeReturnPointsWon','Aces',\n",
    "'BreakPointsConverted','BreakPointsFaced','BreakPointsOpportunities',\n",
    "'BreakPointsSaved','DoubleFaults','ReturnGamesPlayed','ReturnGamesWon',\n",
    "'ReturnPointsWon','ServiceGamesPlayed','ServiceGamesWon','TotalPointsWon',\n",
    "'TotalServicePointsWon']]\n",
    "outcome = df['Winnings']"
   ]
  },
  {
   "cell_type": "code",
   "execution_count": 39,
   "metadata": {},
   "outputs": [],
   "source": [
    "x5_train, x5_test, y5_train, y5_test = train_test_split(features, outcome, train_size = 0.8, test_size = 0.2)"
   ]
  },
  {
   "cell_type": "code",
   "execution_count": 40,
   "metadata": {},
   "outputs": [
    {
     "data": {
      "text/plain": [
       "LinearRegression()"
      ]
     },
     "execution_count": 40,
     "metadata": {},
     "output_type": "execute_result"
    }
   ],
   "source": [
    "m5 = LinearRegression()\n",
    "m5.fit(x5_train, y5_train)"
   ]
  },
  {
   "cell_type": "code",
   "execution_count": 41,
   "metadata": {},
   "outputs": [
    {
     "data": {
      "text/plain": [
       "0.8301555005459975"
      ]
     },
     "execution_count": 41,
     "metadata": {},
     "output_type": "execute_result"
    }
   ],
   "source": [
    "m5.score(x5_test, y5_test)"
   ]
  },
  {
   "cell_type": "code",
   "execution_count": 42,
   "metadata": {},
   "outputs": [],
   "source": [
    "y5_predict = m5.predict(x5_test)"
   ]
  },
  {
   "cell_type": "code",
   "execution_count": 43,
   "metadata": {},
   "outputs": [
    {
     "data": {
      "image/png": "[encoded data removed]",
      "text/plain": [
       "<Figure size 432x288 with 1 Axes>"
      ]
     },
     "metadata": {
      "needs_background": "light"
     },
     "output_type": "display_data"
    }
   ],
   "source": [
    "plt.scatter(y5_test, y5_predict, alpha=0.4)\n",
    "plt.xlabel('Winnings')\n",
    "plt.ylabel('Predicted Winnings')\n",
    "plt.show()"
   ]
  },
  {
   "cell_type": "code",
   "execution_count": null,
   "metadata": {},
   "outputs": [],
   "source": []
  }
 ],
 "metadata": {
  "kernelspec": {
   "display_name": "Python 3",
   "language": "python",
   "name": "python3"
  },
  "language_info": {
   "codemirror_mode": {
    "name": "ipython",
    "version": 3
   },
   "file_extension": ".py",
   "mimetype": "text/x-python",
   "name": "python",
   "nbconvert_exporter": "python",
   "pygments_lexer": "ipython3",
   "version": "3.8.3"
  }
 },
 "nbformat": 4,
 "nbformat_minor": 4
}
